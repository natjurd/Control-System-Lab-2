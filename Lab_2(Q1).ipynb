{
  "nbformat": 4,
  "nbformat_minor": 0,
  "metadata": {
    "colab": {
      "name": "Lab 2(Q1).ipynb",
      "provenance": [],
      "collapsed_sections": [],
      "toc_visible": true,
      "authorship_tag": "ABX9TyNgPnsIC+MTEZEAwo0wk2gm",
      "include_colab_link": true
    },
    "kernelspec": {
      "name": "python3",
      "display_name": "Python 3"
    },
    "language_info": {
      "name": "python"
    }
  },
  "cells": [
    {
      "cell_type": "markdown",
      "metadata": {
        "id": "view-in-github",
        "colab_type": "text"
      },
      "source": [
        "<a href=\"https://colab.research.google.com/github/natjurd/Control-System-Lab-2/blob/Inverted-Pendulum/Lab_2(Q1).ipynb\" target=\"_parent\"><img src=\"https://colab.research.google.com/assets/colab-badge.svg\" alt=\"Open In Colab\"/></a>"
      ]
    },
    {
      "cell_type": "markdown",
      "source": [
        "# Question 1"
      ],
      "metadata": {
        "id": "Fnk97Fdyi-Kz"
      }
    },
    {
      "cell_type": "code",
      "source": [
        "!pip install control\n",
        "import control as C #import control systems lib\n",
        "import matplotlib.pyplot as plt\n",
        "import numpy as np\n",
        "import sympy as sym"
      ],
      "metadata": {
        "colab": {
          "base_uri": "https://localhost:8080/"
        },
        "id": "0Q-S7_HojAuL",
        "outputId": "a6c87317-adb4-4909-978c-d60e27ef5b03"
      },
      "execution_count": null,
      "outputs": [
        {
          "output_type": "stream",
          "name": "stdout",
          "text": [
            "Collecting control\n",
            "  Downloading control-0.9.1.tar.gz (357 kB)\n",
            "\u001b[?25l\r\u001b[K     |█                               | 10 kB 21.8 MB/s eta 0:00:01\r\u001b[K     |█▉                              | 20 kB 26.4 MB/s eta 0:00:01\r\u001b[K     |██▊                             | 30 kB 30.5 MB/s eta 0:00:01\r\u001b[K     |███▋                            | 40 kB 18.1 MB/s eta 0:00:01\r\u001b[K     |████▋                           | 51 kB 14.7 MB/s eta 0:00:01\r\u001b[K     |█████▌                          | 61 kB 16.8 MB/s eta 0:00:01\r\u001b[K     |██████▍                         | 71 kB 16.9 MB/s eta 0:00:01\r\u001b[K     |███████▎                        | 81 kB 18.1 MB/s eta 0:00:01\r\u001b[K     |████████▎                       | 92 kB 19.8 MB/s eta 0:00:01\r\u001b[K     |█████████▏                      | 102 kB 17.3 MB/s eta 0:00:01\r\u001b[K     |██████████                      | 112 kB 17.3 MB/s eta 0:00:01\r\u001b[K     |███████████                     | 122 kB 17.3 MB/s eta 0:00:01\r\u001b[K     |████████████                    | 133 kB 17.3 MB/s eta 0:00:01\r\u001b[K     |████████████▉                   | 143 kB 17.3 MB/s eta 0:00:01\r\u001b[K     |█████████████▊                  | 153 kB 17.3 MB/s eta 0:00:01\r\u001b[K     |██████████████▋                 | 163 kB 17.3 MB/s eta 0:00:01\r\u001b[K     |███████████████▋                | 174 kB 17.3 MB/s eta 0:00:01\r\u001b[K     |████████████████▌               | 184 kB 17.3 MB/s eta 0:00:01\r\u001b[K     |█████████████████▍              | 194 kB 17.3 MB/s eta 0:00:01\r\u001b[K     |██████████████████▎             | 204 kB 17.3 MB/s eta 0:00:01\r\u001b[K     |███████████████████▎            | 215 kB 17.3 MB/s eta 0:00:01\r\u001b[K     |████████████████████▏           | 225 kB 17.3 MB/s eta 0:00:01\r\u001b[K     |█████████████████████           | 235 kB 17.3 MB/s eta 0:00:01\r\u001b[K     |██████████████████████          | 245 kB 17.3 MB/s eta 0:00:01\r\u001b[K     |███████████████████████         | 256 kB 17.3 MB/s eta 0:00:01\r\u001b[K     |███████████████████████▉        | 266 kB 17.3 MB/s eta 0:00:01\r\u001b[K     |████████████████████████▊       | 276 kB 17.3 MB/s eta 0:00:01\r\u001b[K     |█████████████████████████▋      | 286 kB 17.3 MB/s eta 0:00:01\r\u001b[K     |██████████████████████████▌     | 296 kB 17.3 MB/s eta 0:00:01\r\u001b[K     |███████████████████████████▌    | 307 kB 17.3 MB/s eta 0:00:01\r\u001b[K     |████████████████████████████▍   | 317 kB 17.3 MB/s eta 0:00:01\r\u001b[K     |█████████████████████████████▎  | 327 kB 17.3 MB/s eta 0:00:01\r\u001b[K     |██████████████████████████████▏ | 337 kB 17.3 MB/s eta 0:00:01\r\u001b[K     |███████████████████████████████▏| 348 kB 17.3 MB/s eta 0:00:01\r\u001b[K     |████████████████████████████████| 357 kB 17.3 MB/s \n",
            "\u001b[?25hRequirement already satisfied: numpy in /usr/local/lib/python3.7/dist-packages (from control) (1.21.5)\n",
            "Requirement already satisfied: scipy in /usr/local/lib/python3.7/dist-packages (from control) (1.4.1)\n",
            "Requirement already satisfied: matplotlib in /usr/local/lib/python3.7/dist-packages (from control) (3.2.2)\n",
            "Requirement already satisfied: pyparsing!=2.0.4,!=2.1.2,!=2.1.6,>=2.0.1 in /usr/local/lib/python3.7/dist-packages (from matplotlib->control) (3.0.7)\n",
            "Requirement already satisfied: kiwisolver>=1.0.1 in /usr/local/lib/python3.7/dist-packages (from matplotlib->control) (1.4.0)\n",
            "Requirement already satisfied: python-dateutil>=2.1 in /usr/local/lib/python3.7/dist-packages (from matplotlib->control) (2.8.2)\n",
            "Requirement already satisfied: cycler>=0.10 in /usr/local/lib/python3.7/dist-packages (from matplotlib->control) (0.11.0)\n",
            "Requirement already satisfied: typing-extensions in /usr/local/lib/python3.7/dist-packages (from kiwisolver>=1.0.1->matplotlib->control) (3.10.0.2)\n",
            "Requirement already satisfied: six>=1.5 in /usr/local/lib/python3.7/dist-packages (from python-dateutil>=2.1->matplotlib->control) (1.15.0)\n",
            "Building wheels for collected packages: control\n",
            "  Building wheel for control (setup.py) ... \u001b[?25l\u001b[?25hdone\n",
            "  Created wheel for control: filename=control-0.9.1-py2.py3-none-any.whl size=364703 sha256=157cecd13e165829204e461c4282670c572714d9129f7bd4371db1834c124ffa\n",
            "  Stored in directory: /root/.cache/pip/wheels/b1/50/22/8005107713828997d1af664fbd629c7f935a1b87fc2f4ba6c1\n",
            "Successfully built control\n",
            "Installing collected packages: control\n",
            "Successfully installed control-0.9.1\n"
          ]
        }
      ]
    },
    {
      "cell_type": "code",
      "source": [
        "#Defining all symbols\n",
        "M, m , ell, g, x1, x2, x3 , x4, F = sym.symbols('M, m, ell, g, x1, x2, x3, x4, F')\n",
        "\n",
        "phi = (4*m*ell*x4**2*sym.sin(x3) + 4*F - 3*m*g*(sym.sin(x3))*(sym.cos(x3))) / (4*(M + m) - 3*m*(sym.cos(x3)**2))\n",
        "sym.pprint (phi)\n",
        "print (\"\")\n",
        "#Evaluate F,x3,x4 at equilibrium\n",
        "def evaluate_at_equilibrium (f):\n",
        "  return f.subs([(F,0), (x3, 0), (x4, 0)])\n",
        "\n",
        "#derivatives of phi at equilibrium point with respect to F\n",
        "dphi_F_eq = evaluate_at_equilibrium (phi.diff(F))\n",
        "print (f'This is the partial derivative of \\u03a6 with respect to F:')\n",
        "sym.pprint (dphi_F_eq)\n",
        "print (\"\")\n",
        "\n",
        "#derivatives of phi at equilibrium point with respect to x3\n",
        "dphi_x3_eq = evaluate_at_equilibrium (phi.diff(x3))\n",
        "print (f'This is the partial derivative of \\u03a6 with respect to x3:')\n",
        "sym.pprint (dphi_x3_eq)\n",
        "print (\"\")\n",
        "\n",
        "#derivatives of phi at equilibrium point with respect to x4\n",
        "dphi_x4_eq = evaluate_at_equilibrium (phi.diff(x4))\n",
        "print (f'This is the partial derivative of \\u03a6 with respect to x4:')\n",
        "sym.pprint (dphi_x4_eq)\n",
        "print (\"\")\n",
        "\n",
        "\n"
      ],
      "metadata": {
        "colab": {
          "base_uri": "https://localhost:8080/"
        },
        "id": "wYTnccYDjBat",
        "outputId": "71a8cf3e-2eba-460c-da76-b30ad3a899c8"
      },
      "execution_count": null,
      "outputs": [
        {
          "output_type": "stream",
          "name": "stdout",
          "text": [
            "                2                                \n",
            "4⋅F + 4⋅ell⋅m⋅x₄ ⋅sin(x₃) - 3⋅g⋅m⋅sin(x₃)⋅cos(x₃)\n",
            "─────────────────────────────────────────────────\n",
            "                          2                      \n",
            "             4⋅M - 3⋅m⋅cos (x₃) + 4⋅m            \n",
            "\n",
            "This is the partial derivative of Φ with respect to F:\n",
            "   4   \n",
            "───────\n",
            "4⋅M + m\n",
            "\n",
            "This is the partial derivative of Φ with respect to x3:\n",
            "-3⋅g⋅m \n",
            "───────\n",
            "4⋅M + m\n",
            "\n",
            "This is the partial derivative of Φ with respect to x4:\n",
            "0\n",
            "\n"
          ]
        }
      ]
    },
    {
      "cell_type": "code",
      "source": [
        "psi = -3*((m*ell*x4**2*sym.sin(x3)*sym.cos(x3) + F*sym.cos(x3) - (M+m)*g*sym.sin(x3)) / (4*(M+m) - 3*m*sym.cos(x3)**2)*ell)\n",
        "sym.pprint (psi)\n",
        "\n",
        "print (\"\")\n",
        "#Evaluate F,x3,x4 at equilibrium\n",
        "def evaluate_at_equilibrium (f):\n",
        "  return f.subs([(F,0), (x3, 0), (x4, 0)])\n",
        "\n",
        "#derivatives of psi at equilibrium point with respect to F\n",
        "dpsi_F_eq = evaluate_at_equilibrium (psi.diff(F))\n",
        "print (f'This is the partial derivative of \\u03a8 with respect to F:')\n",
        "sym.pprint (dpsi_F_eq)\n",
        "print (\"\")\n",
        "\n",
        "#derivatives of psi at equilibrium point with respect to x3\n",
        "dpsi_x3_eq = evaluate_at_equilibrium (psi.diff(x3))\n",
        "print (f'This is the partial derivative of \\u03a8 with respect to x3:')\n",
        "sym.pprint (dpsi_x3_eq)\n",
        "print (\"\")\n",
        "\n",
        "#derivatives of psi at equilibrium point with respect to x4\n",
        "dpsi_x4_eq = evaluate_at_equilibrium (psi.diff(x4))\n",
        "print (f'This is the partial derivative of \\u03a8 with respect to x4:')\n",
        "sym.pprint (dpsi_x4_eq)\n",
        "print (\"\")"
      ],
      "metadata": {
        "colab": {
          "base_uri": "https://localhost:8080/"
        },
        "id": "pJ_hpQNcjLdL",
        "outputId": "01cf06e0-a58e-4775-d813-116abf0271f3"
      },
      "execution_count": null,
      "outputs": [
        {
          "output_type": "stream",
          "name": "stdout",
          "text": [
            "       ⎛                    2                                    ⎞ \n",
            "-3⋅ell⋅⎝F⋅cos(x₃) + ell⋅m⋅x₄ ⋅sin(x₃)⋅cos(x₃) - g⋅(M + m)⋅sin(x₃)⎠ \n",
            "───────────────────────────────────────────────────────────────────\n",
            "                                   2                               \n",
            "                      4⋅M - 3⋅m⋅cos (x₃) + 4⋅m                     \n",
            "\n",
            "This is the partial derivative of Ψ with respect to F:\n",
            "-3⋅ell \n",
            "───────\n",
            "4⋅M + m\n",
            "\n",
            "This is the partial derivative of Ψ with respect to x3:\n",
            "3⋅ell⋅g⋅(M + m)\n",
            "───────────────\n",
            "    4⋅M + m    \n",
            "\n",
            "This is the partial derivative of Ψ with respect to x4:\n",
            "0\n",
            "\n"
          ]
        }
      ]
    }
  ]
}